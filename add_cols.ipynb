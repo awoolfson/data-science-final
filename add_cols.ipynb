{
 "cells": [
  {
   "cell_type": "code",
   "execution_count": null,
   "metadata": {},
   "outputs": [],
   "source": [
    "import pandas as pd\n",
    "import seaborn as sns\n",
    "import matplotlib.pyplot as plt\n",
    "from datetime import datetime"
   ]
  },
  {
   "cell_type": "code",
   "execution_count": null,
   "metadata": {},
   "outputs": [],
   "source": [
    "# create a num ranked column\n",
    "df = pd.read_csv('data/clean.csv')\n",
    "df['ranking'] = df['ranking'].str.replace('nan', '')\n",
    "df['ranking'] = df['ranking'].str.replace(',,', '')\n",
    "df['num_ranked'] = 0\n",
    "for i in range(len(df['ranking'])):\n",
    "    df['num_ranked'][i] = len(df['ranking'][i].split(','))\n",
    "df['num_ranked'] = (df['num_ranked'] - 1) // 2\n",
    "df.head()"
   ]
  },
  {
   "cell_type": "code",
   "execution_count": null,
   "metadata": {},
   "outputs": [],
   "source": [
    "# add column for semesters remaining\n",
    "df['semesters_remaining'] = 0\n",
    "for i in range(len(df['grad_semester'])):\n",
    "    remaining = 0\n",
    "    remaining += (int(df['grad_semester'][i][-2:]) - 23) * 2\n",
    "    if df['grad_semester'][i][0] == 'S':\n",
    "        remaining -= 1\n",
    "    df['semesters_remaining'][i] = remaining\n",
    "df.head()"
   ]
  },
  {
   "cell_type": "code",
   "execution_count": null,
   "metadata": {},
   "outputs": [],
   "source": [
    "# remove (TBD) from the end of some web tech entries\n",
    "df.replace(to_replace='214-1, WEB TECH (TBD)', value='214-1, WEB TECH', inplace=True)\n",
    "print(df['ranking_1'].unique())"
   ]
  },
  {
   "cell_type": "code",
   "execution_count": null,
   "metadata": {},
   "outputs": [],
   "source": [
    "# save the dataframe\n",
    "df.to_csv('data/clean2.csv', index=False)"
   ]
  }
 ],
 "metadata": {
  "language_info": {
   "name": "python"
  }
 },
 "nbformat": 4,
 "nbformat_minor": 2
}
